{
 "cells": [
  {
   "cell_type": "code",
   "execution_count": 1,
   "metadata": {
    "collapsed": true
   },
   "outputs": [],
   "source": [
    "import pandas as pd"
   ]
  },
  {
   "cell_type": "code",
   "execution_count": 66,
   "metadata": {
    "collapsed": false
   },
   "outputs": [],
   "source": [
    "# From http://www.iihs.org/iihs/topics/t/general-statistics/fatalityfacts/overview-of-fatality-facts#Age-and-gender\n",
    "# Motor vehicle crash deaths per 100,000 people by age and gender, 2015\n",
    "# Rate = (Deaths * 100000) / Population \n",
    "# *Total includes other and/or unknowns for both Age and Gener\n",
    "# Desired output is a JSON object with mapping from Age and Gender selections onto deaths\n",
    "# This should also handle aggregated statistics\n",
    "df = pd.read_csv('age_gender.csv')\n",
    "# Convert Population, Deaths and Rate into floats\n",
    "for index, row in df[1:].iterrows():\n",
    "    for key in df.keys()[1:]:\n",
    "        df[key][index] = float(df[key][index])"
   ]
  },
  {
   "cell_type": "code",
   "execution_count": 65,
   "metadata": {
    "collapsed": false,
    "scrolled": false
   },
   "outputs": [
    {
     "data": {
      "text/html": [
       "<div>\n",
       "<table border=\"1\" class=\"dataframe\">\n",
       "  <thead>\n",
       "    <tr style=\"text-align: right;\">\n",
       "      <th></th>\n",
       "      <th>Age</th>\n",
       "      <th>Male</th>\n",
       "      <th>Male.1</th>\n",
       "      <th>Male.2</th>\n",
       "      <th>Female</th>\n",
       "      <th>Female.1</th>\n",
       "      <th>Female.2</th>\n",
       "      <th>Total</th>\n",
       "      <th>Total.1</th>\n",
       "      <th>Total.2</th>\n",
       "    </tr>\n",
       "  </thead>\n",
       "  <tbody>\n",
       "    <tr>\n",
       "      <th>0</th>\n",
       "      <td>NaN</td>\n",
       "      <td>Population</td>\n",
       "      <td>Deaths</td>\n",
       "      <td>Rate</td>\n",
       "      <td>Population</td>\n",
       "      <td>Deaths</td>\n",
       "      <td>Rate</td>\n",
       "      <td>Population</td>\n",
       "      <td>Deaths</td>\n",
       "      <td>Rate</td>\n",
       "    </tr>\n",
       "    <tr>\n",
       "      <th>1</th>\n",
       "      <td>&lt;13</td>\n",
       "      <td>2.69382e+07</td>\n",
       "      <td>520</td>\n",
       "      <td>1.9</td>\n",
       "      <td>2.58089e+07</td>\n",
       "      <td>417</td>\n",
       "      <td>1.6</td>\n",
       "      <td>5.27471e+07</td>\n",
       "      <td>938</td>\n",
       "      <td>1.8</td>\n",
       "    </tr>\n",
       "    <tr>\n",
       "      <th>2</th>\n",
       "      <td>13-15</td>\n",
       "      <td>6.39191e+06</td>\n",
       "      <td>250</td>\n",
       "      <td>3.9</td>\n",
       "      <td>6.12752e+06</td>\n",
       "      <td>140</td>\n",
       "      <td>2.3</td>\n",
       "      <td>1.25194e+07</td>\n",
       "      <td>391</td>\n",
       "      <td>3.1</td>\n",
       "    </tr>\n",
       "    <tr>\n",
       "      <th>3</th>\n",
       "      <td>16-19</td>\n",
       "      <td>8.62488e+06</td>\n",
       "      <td>1538</td>\n",
       "      <td>17.8</td>\n",
       "      <td>8.23428e+06</td>\n",
       "      <td>786</td>\n",
       "      <td>9.5</td>\n",
       "      <td>1.68592e+07</td>\n",
       "      <td>2324</td>\n",
       "      <td>13.8</td>\n",
       "    </tr>\n",
       "    <tr>\n",
       "      <th>4</th>\n",
       "      <td>20-24</td>\n",
       "      <td>1.16679e+07</td>\n",
       "      <td>3095</td>\n",
       "      <td>26.5</td>\n",
       "      <td>1.10715e+07</td>\n",
       "      <td>1109</td>\n",
       "      <td>10</td>\n",
       "      <td>2.27393e+07</td>\n",
       "      <td>4205</td>\n",
       "      <td>18.5</td>\n",
       "    </tr>\n",
       "  </tbody>\n",
       "</table>\n",
       "</div>"
      ],
      "text/plain": [
       "     Age         Male  Male.1 Male.2       Female Female.1 Female.2  \\\n",
       "0    NaN   Population  Deaths   Rate   Population   Deaths     Rate   \n",
       "1    <13  2.69382e+07     520    1.9  2.58089e+07      417      1.6   \n",
       "2  13-15  6.39191e+06     250    3.9  6.12752e+06      140      2.3   \n",
       "3  16-19  8.62488e+06    1538   17.8  8.23428e+06      786      9.5   \n",
       "4  20-24  1.16679e+07    3095   26.5  1.10715e+07     1109       10   \n",
       "\n",
       "         Total Total.1 Total.2  \n",
       "0   Population  Deaths    Rate  \n",
       "1  5.27471e+07     938     1.8  \n",
       "2  1.25194e+07     391     3.1  \n",
       "3  1.68592e+07    2324    13.8  \n",
       "4  2.27393e+07    4205    18.5  "
      ]
     },
     "execution_count": 65,
     "metadata": {},
     "output_type": "execute_result"
    }
   ],
   "source": [
    "df.head()"
   ]
  },
  {
   "cell_type": "code",
   "execution_count": 113,
   "metadata": {
    "collapsed": false
   },
   "outputs": [
    {
     "ename": "SyntaxError",
     "evalue": "invalid syntax (<ipython-input-113-76fba21ee8cf>, line 17)",
     "output_type": "error",
     "traceback": [
      "\u001b[0;36m  File \u001b[0;32m\"<ipython-input-113-76fba21ee8cf>\"\u001b[0;36m, line \u001b[0;32m17\u001b[0m\n\u001b[0;31m    df2[key][index] = (df[key][index*2-1] * df[key[:-2]][index*2-1] + df[key][index*2] * df[key[:-2]][index*2]) / (df[key[:-2][index*2-1] + df[key[:-2]][index*2])\u001b[0m\n\u001b[0m                                                                                                                                                                 ^\u001b[0m\n\u001b[0;31mSyntaxError\u001b[0m\u001b[0;31m:\u001b[0m invalid syntax\n"
     ]
    }
   ],
   "source": [
    "# df2 = pd.DataFrame(columns=df.keys())\n",
    "# print df2\n",
    "# df2[\"Age\"][0] = 5\n",
    "df2 = df.copy()\n",
    "\n",
    "# df['Age'][2] = '13-15'\n",
    "# for key in df.keys():\n",
    "#     print key\n",
    "for index, row in df[1:].iterrows():\n",
    "    if (index < 5):\n",
    "        for key in df.keys():\n",
    "            if key == \"Age\":\n",
    "                df2[key][index] = df[key][index*2-1] + \" \" + df[key][index*2]\n",
    "            if df[key][0] == \"Population\" or df[key][0] == \"Deaths\":\n",
    "                df2[key][index] = df[key][index*2-1] + df[key][index*2]\n",
    "            if df[key][0] == \"Rate\":\n",
    "                df2[key][index] = (df[key][index*2-1] * df[key[:-2]][index*2-1] + df[key][index*2] * df[key[:-2]][index*2]) / (df[key[:-2][index*2-1] + df[key[:-2]][index*2])\n",
    "df2.head()"
   ]
  },
  {
   "cell_type": "code",
   "execution_count": null,
   "metadata": {
    "collapsed": true
   },
   "outputs": [],
   "source": []
  },
  {
   "cell_type": "code",
   "execution_count": null,
   "metadata": {
    "collapsed": true
   },
   "outputs": [],
   "source": []
  },
  {
   "cell_type": "code",
   "execution_count": null,
   "metadata": {
    "collapsed": false
   },
   "outputs": [],
   "source": [
    "totalPopulation = int(df['Total'][18])"
   ]
  },
  {
   "cell_type": "code",
   "execution_count": 5,
   "metadata": {
    "collapsed": false
   },
   "outputs": [],
   "source": [
    "def build_dict(df):\n",
    "    dict = {}\n",
    "    for i in range(1,len(df)):\n",
    "        dict[df['Age'][i]] = {}\n",
    "    for i in range(1,19):\n",
    "        dict[df['Age'][i]]['Male'] = {}\n",
    "        dict[df['Age'][i]]['Female'] = {}\n",
    "        dict[df['Age'][i]]['Total'] = {}\n",
    "    for i in range(1,19):\n",
    "        dict[df['Age'][i]]['Male']['Deaths'] = int(df['Male.1'][i])\n",
    "        dict[df['Age'][i]]['Male']['Rate'] = float(df['Male.2'][i])\n",
    "        dict[df['Age'][i]]['Female']['Deaths'] = int(df['Female.1'][i])\n",
    "        dict[df['Age'][i]]['Female']['Rate'] = float(df['Female.2'][i])\n",
    "        dict[df['Age'][i]]['Total']['Deaths'] = int(df['Total.1'][i])\n",
    "        dict[df['Age'][i]]['Total']['Rate'] = float(df['Total.2'][i])\n",
    "    return dict"
   ]
  },
  {
   "cell_type": "code",
   "execution_count": 6,
   "metadata": {
    "collapsed": false
   },
   "outputs": [],
   "source": [
    "dict = build_dict(df)"
   ]
  },
  {
   "cell_type": "code",
   "execution_count": 7,
   "metadata": {
    "collapsed": false
   },
   "outputs": [
    {
     "name": "stdout",
     "output_type": "stream",
     "text": [
      "True True True\n",
      "True True True\n",
      "True True True\n",
      "True True True\n",
      "True True True\n",
      "True True True\n"
     ]
    }
   ],
   "source": [
    "# Verifying Deaths\n",
    "print dict['<13']['Male']['Deaths']==520, dict['55-59']['Male']['Deaths']==1960, dict['Total']['Male']['Deaths']==24899\n",
    "print dict['<13']['Female']['Deaths']==417, dict['55-59']['Female']['Deaths']==677, dict['Total']['Female']['Deaths']==10166\n",
    "print dict['<13']['Total']['Deaths']==938, dict['55-59']['Total']['Deaths']==2638, dict['Total']['Total']['Deaths']==35092\n",
    "\n",
    "# Verifying Rates\n",
    "print dict['<13']['Male']['Rate']==1.9, dict['55-59']['Male']['Rate']==18.5, dict['Total']['Male']['Rate']==15.7\n",
    "print dict['<13']['Female']['Rate']==1.6, dict['55-59']['Female']['Rate']==6.0, dict['Total']['Female']['Rate']==6.2\n",
    "print dict['<13']['Total']['Rate']==1.8, dict['55-59']['Total']['Rate']==12.1, dict['Total']['Total']['Rate']==10.9"
   ]
  },
  {
   "cell_type": "code",
   "execution_count": 8,
   "metadata": {
    "collapsed": false
   },
   "outputs": [
    {
     "data": {
      "text/plain": [
       "{'13-15': {'Female': {'Deaths': 140, 'Rate': 2.3},\n",
       "  'Male': {'Deaths': 250, 'Rate': 3.9},\n",
       "  'Total': {'Deaths': 391, 'Rate': 3.1}},\n",
       " '16-19': {'Female': {'Deaths': 786, 'Rate': 9.5},\n",
       "  'Male': {'Deaths': 1538, 'Rate': 17.8},\n",
       "  'Total': {'Deaths': 2324, 'Rate': 13.8}},\n",
       " '20-24': {'Female': {'Deaths': 1109, 'Rate': 10.0},\n",
       "  'Male': {'Deaths': 3095, 'Rate': 26.5},\n",
       "  'Total': {'Deaths': 4205, 'Rate': 18.5}},\n",
       " '25-29': {'Female': {'Deaths': 824, 'Rate': 7.5},\n",
       "  'Male': {'Deaths': 2702, 'Rate': 23.7},\n",
       "  'Total': {'Deaths': 3527, 'Rate': 15.7}},\n",
       " '30-34': {'Female': {'Deaths': 762, 'Rate': 7.1},\n",
       "  'Male': {'Deaths': 1991, 'Rate': 18.3},\n",
       "  'Total': {'Deaths': 2754, 'Rate': 12.7}},\n",
       " '35-39': {'Female': {'Deaths': 625, 'Rate': 6.1},\n",
       "  'Male': {'Deaths': 1789, 'Rate': 17.6},\n",
       "  'Total': {'Deaths': 2414, 'Rate': 11.8}},\n",
       " '40-44': {'Female': {'Deaths': 583, 'Rate': 5.7},\n",
       "  'Male': {'Deaths': 1654, 'Rate': 16.5},\n",
       "  'Total': {'Deaths': 2238, 'Rate': 11.1}},\n",
       " '45-49': {'Female': {'Deaths': 634, 'Rate': 6.0},\n",
       "  'Male': {'Deaths': 1722, 'Rate': 16.7},\n",
       "  'Total': {'Deaths': 2356, 'Rate': 11.3}},\n",
       " '50-54': {'Female': {'Deaths': 780, 'Rate': 6.9},\n",
       "  'Male': {'Deaths': 2119, 'Rate': 19.3},\n",
       "  'Total': {'Deaths': 2900, 'Rate': 13.0}},\n",
       " '55-59': {'Female': {'Deaths': 677, 'Rate': 6.0},\n",
       "  'Male': {'Deaths': 1960, 'Rate': 18.5},\n",
       "  'Total': {'Deaths': 2638, 'Rate': 12.1}},\n",
       " '60-64': {'Female': {'Deaths': 555, 'Rate': 5.6},\n",
       "  'Male': {'Deaths': 1592, 'Rate': 17.5},\n",
       "  'Total': {'Deaths': 2149, 'Rate': 11.3}},\n",
       " '65-69': {'Female': {'Deaths': 546, 'Rate': 6.4},\n",
       "  'Male': {'Deaths': 1252, 'Rate': 16.5},\n",
       "  'Total': {'Deaths': 1799, 'Rate': 11.2}},\n",
       " '70-74': {'Female': {'Deaths': 449, 'Rate': 7.3},\n",
       "  'Male': {'Deaths': 867, 'Rate': 16.4},\n",
       "  'Total': {'Deaths': 1316, 'Rate': 11.5}},\n",
       " '75-79': {'Female': {'Deaths': 414, 'Rate': 9.2},\n",
       "  'Male': {'Deaths': 655, 'Rate': 18.1},\n",
       "  'Total': {'Deaths': 1069, 'Rate': 13.2}},\n",
       " '80-84': {'Female': {'Deaths': 378, 'Rate': 11.2},\n",
       "  'Male': {'Deaths': 537, 'Rate': 22.3},\n",
       "  'Total': {'Deaths': 916, 'Rate': 15.8}},\n",
       " '85+': {'Female': {'Deaths': 471, 'Rate': 11.5},\n",
       "  'Male': {'Deaths': 594, 'Rate': 27.3},\n",
       "  'Total': {'Deaths': 1065, 'Rate': 16.9}},\n",
       " '<13': {'Female': {'Deaths': 417, 'Rate': 1.6},\n",
       "  'Male': {'Deaths': 520, 'Rate': 1.9},\n",
       "  'Total': {'Deaths': 938, 'Rate': 1.8}},\n",
       " 'Total': {'Female': {'Deaths': 10166, 'Rate': 6.2},\n",
       "  'Male': {'Deaths': 24899, 'Rate': 15.7},\n",
       "  'Total': {'Deaths': 35092, 'Rate': 10.9}}}"
      ]
     },
     "execution_count": 8,
     "metadata": {},
     "output_type": "execute_result"
    }
   ],
   "source": [
    "# We can copy the resulting JSON object directly into Javascript\n",
    "dict"
   ]
  },
  {
   "cell_type": "code",
   "execution_count": 9,
   "metadata": {
    "collapsed": false
   },
   "outputs": [
    {
     "data": {
      "text/plain": [
       "321418820"
      ]
     },
     "execution_count": 9,
     "metadata": {},
     "output_type": "execute_result"
    }
   ],
   "source": [
    "# Along with the Total Population\n",
    "totalPopulation"
   ]
  }
 ],
 "metadata": {
  "kernelspec": {
   "display_name": "Python [Root]",
   "language": "python",
   "name": "Python [Root]"
  },
  "language_info": {
   "codemirror_mode": {
    "name": "ipython",
    "version": 2
   },
   "file_extension": ".py",
   "mimetype": "text/x-python",
   "name": "python",
   "nbconvert_exporter": "python",
   "pygments_lexer": "ipython2",
   "version": "2.7.9"
  }
 },
 "nbformat": 4,
 "nbformat_minor": 0
}
